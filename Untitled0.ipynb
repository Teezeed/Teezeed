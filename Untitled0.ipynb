{
  "nbformat": 4,
  "nbformat_minor": 0,
  "metadata": {
    "colab": {
      "provenance": [],
      "collapsed_sections": [],
      "authorship_tag": "ABX9TyMahZxc0HfHBwBo6c5JxV0V",
      "include_colab_link": true
    },
    "kernelspec": {
      "name": "python3",
      "display_name": "Python 3"
    },
    "language_info": {
      "name": "python"
    }
  },
  "cells": [
    {
      "cell_type": "markdown",
      "metadata": {
        "id": "view-in-github",
        "colab_type": "text"
      },
      "source": [
        "<a href=\"https://colab.research.google.com/github/Teezeed/Teezeed/blob/main/Untitled0.ipynb\" target=\"_parent\"><img src=\"https://colab.research.google.com/assets/colab-badge.svg\" alt=\"Open In Colab\"/></a>"
      ]
    },
    {
      "cell_type": "code",
      "execution_count": 2,
      "metadata": {
        "colab": {
          "base_uri": "https://localhost:8080/"
        },
        "id": "TIWUpgIz2L-E",
        "outputId": "5d406ce0-e5bf-40c5-d21b-a013ccf9e1c3"
      },
      "outputs": [
        {
          "output_type": "execute_result",
          "data": {
            "text/plain": [
              "int"
            ]
          },
          "metadata": {},
          "execution_count": 2
        }
      ],
      "source": [
        "#integer = whole number whether positive or negative\n",
        "type(10)\n",
        "\n",
        "\n",
        "\n",
        "\n",
        "\n"
      ]
    },
    {
      "cell_type": "code",
      "source": [
        "# float = decimal number\n",
        "10.5"
      ],
      "metadata": {
        "colab": {
          "base_uri": "https://localhost:8080/"
        },
        "id": "HivLxYxboDsU",
        "outputId": "65f7ae74-84cb-44c0-8c19-169691f97139"
      },
      "execution_count": 3,
      "outputs": [
        {
          "output_type": "execute_result",
          "data": {
            "text/plain": [
              "10.5"
            ]
          },
          "metadata": {},
          "execution_count": 3
        }
      ]
    },
    {
      "cell_type": "code",
      "source": [
        "type(10.5)"
      ],
      "metadata": {
        "colab": {
          "base_uri": "https://localhost:8080/"
        },
        "id": "oBEG9nkgoSwJ",
        "outputId": "6e3ae827-c528-49c5-d27d-926936a7db78"
      },
      "execution_count": 4,
      "outputs": [
        {
          "output_type": "execute_result",
          "data": {
            "text/plain": [
              "float"
            ]
          },
          "metadata": {},
          "execution_count": 4
        }
      ]
    },
    {
      "cell_type": "code",
      "source": [
        "#strings = text (\"\")\n",
        "\"hello world\""
      ],
      "metadata": {
        "colab": {
          "base_uri": "https://localhost:8080/",
          "height": 35
        },
        "id": "5GOG7lyhoXUV",
        "outputId": "d96701e2-df1a-4905-8f89-96d1c448e8d9"
      },
      "execution_count": 5,
      "outputs": [
        {
          "output_type": "execute_result",
          "data": {
            "text/plain": [
              "'hello world'"
            ],
            "application/vnd.google.colaboratory.intrinsic+json": {
              "type": "string"
            }
          },
          "metadata": {},
          "execution_count": 5
        }
      ]
    },
    {
      "cell_type": "code",
      "source": [
        "type(\"hello world\")"
      ],
      "metadata": {
        "colab": {
          "base_uri": "https://localhost:8080/"
        },
        "id": "RXq5jQJsoxNW",
        "outputId": "78348af6-af51-490e-b28a-5b78f43b6bc4"
      },
      "execution_count": 6,
      "outputs": [
        {
          "output_type": "execute_result",
          "data": {
            "text/plain": [
              "str"
            ]
          },
          "metadata": {},
          "execution_count": 6
        }
      ]
    },
    {
      "cell_type": "code",
      "source": [
        "#variable assignment\n",
        "account = 5000"
      ],
      "metadata": {
        "id": "VMKE-Aamo3YQ"
      },
      "execution_count": 7,
      "outputs": []
    },
    {
      "cell_type": "code",
      "source": [
        "account"
      ],
      "metadata": {
        "colab": {
          "base_uri": "https://localhost:8080/"
        },
        "id": "9Jqltx9Apfvh",
        "outputId": "b93e5e67-ae2c-4d6b-fe15-889fd554d535"
      },
      "execution_count": 9,
      "outputs": [
        {
          "output_type": "execute_result",
          "data": {
            "text/plain": [
              "5000"
            ]
          },
          "metadata": {},
          "execution_count": 9
        }
      ]
    },
    {
      "cell_type": "code",
      "source": [
        "account * account"
      ],
      "metadata": {
        "colab": {
          "base_uri": "https://localhost:8080/"
        },
        "id": "1gE3bgsXpi9v",
        "outputId": "16d46a18-f159-4e8d-93e2-7863d720b324"
      },
      "execution_count": 10,
      "outputs": [
        {
          "output_type": "execute_result",
          "data": {
            "text/plain": [
              "25000000"
            ]
          },
          "metadata": {},
          "execution_count": 10
        }
      ]
    },
    {
      "cell_type": "code",
      "source": [
        "account - 2000"
      ],
      "metadata": {
        "colab": {
          "base_uri": "https://localhost:8080/"
        },
        "id": "BBk9bsEcqBN3",
        "outputId": "e9dba0b9-f2bb-43d2-9612-71db4cba3bea"
      },
      "execution_count": 11,
      "outputs": [
        {
          "output_type": "execute_result",
          "data": {
            "text/plain": [
              "3000"
            ]
          },
          "metadata": {},
          "execution_count": 11
        }
      ]
    },
    {
      "cell_type": "code",
      "source": [
        "#variable name is case sensitive\n",
        "#variable name cannot take spaces\n",
        "#variable name cannot start with a number\n",
        "cost_price = 1000"
      ],
      "metadata": {
        "id": "a2JvNmHzqFFC"
      },
      "execution_count": 14,
      "outputs": []
    },
    {
      "cell_type": "code",
      "source": [
        "# Disposable income calculator\n",
        "income = 1000000\n",
        "tax = 0.05\n",
        "pension = 0.2\n",
        "hmo = 0.1\n",
        "loan = 50000\n",
        "\n",
        "tax_income = tax * income\n",
        "pension_income = pension * income\n",
        "hmo_income = hmo * income\n",
        "\n",
        "disposal_income  =  income - tax_income - pension_income - hmo_income - loan\n",
        "disposal_income\n"
      ],
      "metadata": {
        "colab": {
          "base_uri": "https://localhost:8080/"
        },
        "id": "Dd4bybllqZmk",
        "outputId": "94f94aee-81d7-4907-bf0f-2e8d1e68372e"
      },
      "execution_count": 20,
      "outputs": [
        {
          "output_type": "execute_result",
          "data": {
            "text/plain": [
              "600000.0"
            ]
          },
          "metadata": {},
          "execution_count": 20
        }
      ]
    },
    {
      "cell_type": "code",
      "source": [
        "# Disposable income calculator\n",
        "income = float(input(\"how much do you earn monthly:\"))\n",
        "tax = float(input(\"what is your tax percentage:\"))\n",
        "pension = float(input(\"what is your pension percentage:\"))\n",
        "hmo = float(input(\"what is your hmo percentage:\"))\n",
        "loan = float(input(\"how much loan are you paying monthly:\"))\n",
        "\n",
        "tax_income = tax * income\n",
        "pension_income = pension * income\n",
        "hmo_income = hmo * income\n",
        "\n",
        "disposal_income  =  income - tax_income - pension_income - hmo_income - loan\n",
        "disposal_income\n"
      ],
      "metadata": {
        "colab": {
          "base_uri": "https://localhost:8080/"
        },
        "id": "ZG70yVqVrxg1",
        "outputId": "23239972-593a-442d-b57f-9aa9c0f741bf"
      },
      "execution_count": 21,
      "outputs": [
        {
          "name": "stdout",
          "output_type": "stream",
          "text": [
            "how much do you earn monthly:500000\n",
            "what is your tax percentage:0.02\n",
            "what is your pension percentage:0.02\n",
            "what is your hmo percentage:0.05\n",
            "how much loan are you paying monthly:20000\n"
          ]
        },
        {
          "output_type": "execute_result",
          "data": {
            "text/plain": [
              "435000.0"
            ]
          },
          "metadata": {},
          "execution_count": 21
        }
      ]
    },
    {
      "cell_type": "code",
      "source": [
        "# Disposable income calculator\n",
        "name = input(\"what is your name?\")\n",
        "yob = int(input(\"when is your year of birth\"))\n",
        "age = 2022 - yob\n",
        "print(f\"hi {name}, you are {age} years old. welcome to high impact income calculator\")\n",
        "print(\"-----------------------------------------------------\")\n",
        "\n",
        "income = float(input(\"how much do you earn monthly:\"))\n",
        "tax = float(input(\"what is your tax percentage:\"))\n",
        "pension = float(input(\"what is your pension percentage:\"))\n",
        "hmo = float(input(\"what is your hmo percentage:\"))\n",
        "loan = float(input(\"how much loan are you paying monthly:\"))\n",
        "\n",
        "tax_income = tax * income\n",
        "pension_income = pension * income\n",
        "hmo_income = hmo * income\n",
        "\n",
        "disposable_income  =  income - tax_income - pension_income - hmo_income - loan\n",
        "\n",
        "if disposable_income <= 100000:\n",
        "  print(\"intern\")\n",
        "\n",
        "elif disposable_income <= 250000:\n",
        "  print(\"contract staff\")\n",
        "elif disposable_income <= 500000:\n",
        "  print(\"full-time staff\")\n",
        "else:\n",
        "  print(\"managerial staff\")\n",
        "\n",
        "print(f\"income is {income}, you spent {tax_income} on tax, {pension_income} on pension, {hmo_income} on hmo and {loan} on loan. Your disposable_income is {disposable_income}\")"
      ],
      "metadata": {
        "colab": {
          "base_uri": "https://localhost:8080/"
        },
        "id": "uliFHoDEvpPu",
        "outputId": "4cf11353-30eb-4af9-fb6c-98f256c4fe4b"
      },
      "execution_count": 34,
      "outputs": [
        {
          "output_type": "stream",
          "name": "stdout",
          "text": [
            "what is your name?Ogbuefi\n",
            "when is your year of birth1991\n",
            "hi Ogbuefi, you are 31 years old. welcome to high impact income calculator\n",
            "-----------------------------------------------------\n",
            "how much do you earn monthly:2500000\n",
            "what is your tax percentage:0.15\n",
            "what is your pension percentage:0.2\n",
            "what is your hmo percentage:0.5\n",
            "how much loan are you paying monthly:1000000\n",
            "intern\n",
            "income is 2500000.0, you spent 375000.0 on tax, 500000.0 on pension, 1250000.0 on hmo and 1000000.0 on loan. Your disposable_income is -625000.0\n"
          ]
        }
      ]
    },
    {
      "cell_type": "code",
      "source": [],
      "metadata": {
        "id": "g2rDno7ixotJ"
      },
      "execution_count": null,
      "outputs": []
    }
  ]
}